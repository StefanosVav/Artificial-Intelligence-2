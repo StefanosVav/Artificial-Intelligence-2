{
  "nbformat": 4,
  "nbformat_minor": 0,
  "metadata": {
    "colab": {
      "provenance": []
    },
    "kernelspec": {
      "name": "python3",
      "display_name": "Python 3"
    },
    "language_info": {
      "name": "python"
    }
  },
  "cells": [
    {
      "cell_type": "code",
      "execution_count": null,
      "metadata": {
        "id": "652REVzS3cH6"
      },
      "outputs": [],
      "source": [
        "import pandas as pd\n",
        "import numpy as np\n",
        "\n",
        "from google.colab import drive\n",
        "drive.mount('/content/gdrive')"
      ]
    },
    {
      "cell_type": "markdown",
      "source": [
        "Read file from drive --- Give test_df the path to test set (as described in lab)"
      ],
      "metadata": {
        "id": "1eUVz4QBwEy5"
      }
    },
    {
      "cell_type": "code",
      "source": [
        "df = pd.read_csv(\"/content/gdrive/MyDrive/Artificial_Intelligence2/imdb-reviews.csv\", sep='\\t')\n",
        "# Only for examiner --\n",
        "test_df = None\n",
        "# Only for examiner --\n",
        "print(df)"
      ],
      "metadata": {
        "id": "ZXTDlghw9exM"
      },
      "execution_count": null,
      "outputs": []
    },
    {
      "cell_type": "markdown",
      "source": [
        "Preprocessing - Data Cleansing"
      ],
      "metadata": {
        "id": "Hjgg3VfiwP6m"
      }
    },
    {
      "cell_type": "code",
      "source": [
        "import nltk\n",
        "from nltk.corpus import stopwords\n",
        "nltk.download('stopwords')\n",
        "stop = stopwords.words('english')\n",
        "\n",
        "def preprocess(df):\n",
        "  df = df.drop('url', axis = 1)\n",
        "  df['review'] = df['review'].str.lower()\n",
        "  df['review'] = df['review'].str.replace(\"<br />\", \" \")\n",
        "  df['review'] = df['review'].str.replace(r'http\\S+', '', regex=True).replace(r'www\\S+', '', regex=True)    # Remove urls\n",
        "  df['review'] = df['review'].str.replace('@[A-Za-z0-9_]+','')                                              # Remove mentions\n",
        "  df = df.astype(str).apply(lambda x: x.str.encode('ascii', 'ignore').str.decode('ascii'))                  # Remove emojis\n",
        "  df['review'] = df['review'].str.replace('[^\\w\\s]','')                                                     # Remove punctuation\n",
        "  df['review'] = df['review'].apply(lambda x: ' '.join([item for item in x.split() if item not in stop]))   # Remove stop words\n",
        "  return df\n",
        "\n",
        "df1 = preprocess(df)\n",
        "print(df1)"
      ],
      "metadata": {
        "id": "Rx0zYqIi7bBC"
      },
      "execution_count": null,
      "outputs": []
    },
    {
      "cell_type": "code",
      "source": [
        "most_used_words = pd.Series(' '.join(df1['review']).split()).value_counts()[:10]\n",
        "print(most_used_words)"
      ],
      "metadata": {
        "id": "h09ZyfxgCviI",
        "colab": {
          "base_uri": "https://localhost:8080/"
        },
        "outputId": "33cbf8e3-a4ee-453d-821e-09c1f3163128"
      },
      "execution_count": 275,
      "outputs": [
        {
          "output_type": "stream",
          "name": "stdout",
          "text": [
            "movie     79033\n",
            "film      69432\n",
            "one       46646\n",
            "like      35623\n",
            "good      26234\n",
            "even      22402\n",
            "would     21803\n",
            "time      21669\n",
            "really    21053\n",
            "see       20650\n",
            "dtype: int64\n"
          ]
        }
      ]
    },
    {
      "cell_type": "markdown",
      "source": [
        "Preprocessing - Setting training and validation set. Includes part \"only for examiner\" when test_df != None"
      ],
      "metadata": {
        "id": "QJ4dm_vc4f_Y"
      }
    },
    {
      "cell_type": "code",
      "source": [
        "from sklearn.linear_model import LogisticRegression\n",
        "from sklearn.metrics import f1_score, precision_score, recall_score\n",
        "from sklearn.model_selection import train_test_split\n",
        "from sklearn.model_selection import KFold\n",
        "\n",
        "\n",
        "X = df1.drop('rating', axis=1)\n",
        "X = X.squeeze()\n",
        "Y = df1[['rating']]                 # only keep the rating\n",
        "Y = Y.replace(['7.0', '8.0', '9.0', '10.0'], 1)\n",
        "Y = Y.replace(['0.0', '1.0', '2.0', '3.0', '4.0'], 0)\n",
        "\n",
        "\n",
        "X_train, X_val, Y_train, Y_val = train_test_split(X, Y, test_size=0.15, random_state=4)\n",
        "\n",
        "\n",
        "# Only for examiner --\n",
        "if test_df != None:\n",
        "  test_df1 = preprocess(test_df)\n",
        "\n",
        "  X_test = test_df1.drop('rating', axis=1)\n",
        "  X_test = X_test.squeeze()\n",
        "  Y_test = test_df1[['rating']]              # only keep the rating\n",
        "  Y_test = Y_test.replace(['7.0', '8.0', '9.0', '10.0'], 1)\n",
        "  Y_test = Y_test.replace(['0.0', '1.0', '2.0', '3.0', '4.0'], 0)\n",
        "# Only for examiner --"
      ],
      "metadata": {
        "id": "GztEXJMPQWZj"
      },
      "execution_count": 267,
      "outputs": []
    },
    {
      "cell_type": "markdown",
      "source": [
        "Vectorize with Count Vectorizer"
      ],
      "metadata": {
        "id": "LBfFtSWdwps5"
      }
    },
    {
      "cell_type": "code",
      "source": [
        "from sklearn.feature_extraction.text import CountVectorizer\n",
        "vectorizer = CountVectorizer(min_df=0.01)\n",
        "\n",
        "X_train_count = vectorizer.fit_transform(X_train)\n",
        "\n",
        "X_val_count = vectorizer.transform(X_val)\n",
        "\n",
        "print(X_train_count.shape)\n",
        "print(X_val_count.shape)"
      ],
      "metadata": {
        "colab": {
          "base_uri": "https://localhost:8080/"
        },
        "id": "j217mRZHJG2R",
        "outputId": "e0d76272-6632-4c50-fb29-957ed03fac83"
      },
      "execution_count": 295,
      "outputs": [
        {
          "output_type": "stream",
          "name": "stdout",
          "text": [
            "(38256, 1628)\n",
            "(6752, 1628)\n"
          ]
        }
      ]
    },
    {
      "cell_type": "markdown",
      "source": [
        "Vectorize with Tfidf Vectorizer"
      ],
      "metadata": {
        "id": "DpI4huNCws5q"
      }
    },
    {
      "cell_type": "code",
      "source": [
        "from sklearn.feature_extraction.text import TfidfVectorizer\n",
        "\n",
        "tfvectorizer = TfidfVectorizer(min_df=0.01)\n",
        "X_train_tfidf = tfvectorizer.fit_transform(X_train)\n",
        "\n",
        "X_val_tfidf = tfvectorizer.transform(X_val)\n",
        "\n",
        "print(X_train_tfidf.shape)\n",
        "print(X_val_tfidf.shape)"
      ],
      "metadata": {
        "colab": {
          "base_uri": "https://localhost:8080/"
        },
        "id": "dNCoH8ufyS17",
        "outputId": "09409b18-d98b-473a-a46c-afa49d61a12c"
      },
      "execution_count": 296,
      "outputs": [
        {
          "output_type": "stream",
          "name": "stdout",
          "text": [
            "(38256, 1628)\n",
            "(6752, 1628)\n"
          ]
        }
      ]
    },
    {
      "cell_type": "markdown",
      "source": [
        "Example using what I think are the best hyperparameters with tfidf vectorizer.\n",
        "Includes f1, precision and recall scores"
      ],
      "metadata": {
        "id": "eDK8nXpmwyeN"
      }
    },
    {
      "cell_type": "code",
      "source": [
        "# Training\n",
        "classifier = LogisticRegression(C=0.1, solver='newton-cg', penalty='l2', max_iter=2000)\n",
        "classifier.fit(X_train_tfidf, np.ravel(Y_train))\n",
        "\n",
        "#Results\n",
        "predictions_train = classifier.predict(X_train_tfidf)\n",
        "predictions_val = classifier.predict(X_val_tfidf)\n",
        "\n",
        "print(predictions_val)\n",
        "print(np.ravel(Y_val))\n",
        "\n",
        "#print(predictions_val.sum())\n",
        "#print(np.ravel(Y_val).sum())\n",
        "\n",
        "# F-Score\n",
        "\n",
        "f1_train = f1_score(Y_train, predictions_train)\n",
        "f1_val = f1_score(Y_val, predictions_val)\n",
        "\n",
        "print(\"F1 Score (train):\", f1_train)\n",
        "print(\"F1 Score (validation):\", f1_val)\n",
        "\n",
        "#dif = abs(f1_train - f1_val)\n",
        "#print(dif)\n",
        "\n",
        "ps = precision_score(predictions_val, Y_val, average='macro')\n",
        "print('Precision:', ps)\n",
        "rs = recall_score(predictions_val, Y_val, average='macro')\n",
        "print('Recall:', rs)"
      ],
      "metadata": {
        "id": "Skl9yDyEWzub",
        "colab": {
          "base_uri": "https://localhost:8080/"
        },
        "outputId": "f308a7ca-4f42-4873-e430-428229ad1237"
      },
      "execution_count": 297,
      "outputs": [
        {
          "output_type": "stream",
          "name": "stdout",
          "text": [
            "[1 1 1 ... 1 1 0]\n",
            "[1 1 1 ... 1 1 0]\n",
            "F1 Score (train): 0.8776529981454769\n",
            "F1 Score (validation): 0.8703757646373435\n",
            "Precision: 0.8681641023427286\n",
            "Recall: 0.8685474808078173\n"
          ]
        }
      ]
    },
    {
      "cell_type": "markdown",
      "source": [
        "Show plot using best hyperparameters with tfidf vectorizer"
      ],
      "metadata": {
        "id": "ojC5SszlxGjX"
      }
    },
    {
      "cell_type": "code",
      "source": [
        "import matplotlib.pyplot as plt\n",
        "\n",
        "list_f1=[]\n",
        "list_f1_train=[]\n",
        "list_precision=[]\n",
        "list_recall=[]\n",
        "list_sample_size=[]\n",
        "\n",
        "for times in range(10):\n",
        "  # training\n",
        "  X, X_unused, y, y_unused = train_test_split(X_train_tfidf, Y_train, test_size=1 - (times * 0.1 + 0.005), random_state=0)\n",
        "\n",
        "  classifier = LogisticRegression(C=0.1, solver='newton-cg', penalty='l2', max_iter=2000)\n",
        "  classifier.fit(X, np.ravel(y))\n",
        "\n",
        "  results_train = classifier.predict(X)\n",
        "\n",
        "  # validation\n",
        "  results = classifier.predict(X_val_tfidf)\n",
        "\n",
        "  # score\n",
        "  f1_train = f1_score(y, results_train)\n",
        "  print(\"F1 Score Train: \" + str(f1_train))\n",
        "\n",
        "  f1 = f1_score(Y_val, results)\n",
        "  print(\"F1 Score Validation: \" + str(f1))\n",
        "\n",
        "  precision = precision_score(Y_val, results)\n",
        "  recall = recall_score(Y_val, results)\n",
        "  list_precision.append(precision)\n",
        "  list_recall.append(recall)\n",
        "\n",
        "  list_f1.append(f1)\n",
        "  list_f1_train.append(f1_train)\n",
        "  list_sample_size.append((times * 0.1 + 0.1))\n",
        "\n",
        "# print(plot_data)\n",
        "plt.plot(list_sample_size, list_f1)\n",
        "plt.plot(list_sample_size, list_f1_train)\n",
        "\n",
        "plt.ylim(ymin=0)\n",
        "plt.legend([\"Validation\", \"Training\"])"
      ],
      "metadata": {
        "colab": {
          "base_uri": "https://localhost:8080/",
          "height": 639
        },
        "id": "EcPPcThEkNe1",
        "outputId": "487551ef-c9e0-4f6e-e51d-d6dc9930de17"
      },
      "execution_count": 301,
      "outputs": [
        {
          "output_type": "stream",
          "name": "stdout",
          "text": [
            "F1 Score Train: 0.7094594594594594\n",
            "F1 Score Validation: 0.6673245830454949\n",
            "F1 Score Train: 0.875643855776306\n",
            "F1 Score Validation: 0.8289779326364692\n",
            "F1 Score Train: 0.8699859926142874\n",
            "F1 Score Validation: 0.8464790785828838\n",
            "F1 Score Train: 0.8718295569834292\n",
            "F1 Score Validation: 0.8557734204793027\n",
            "F1 Score Train: 0.8760078725160308\n",
            "F1 Score Validation: 0.8571012805587892\n",
            "F1 Score Train: 0.8764340223378987\n",
            "F1 Score Validation: 0.8611955420466059\n",
            "F1 Score Train: 0.8776814046964249\n",
            "F1 Score Validation: 0.8637883413286813\n",
            "F1 Score Train: 0.8773646921335184\n",
            "F1 Score Validation: 0.8673469387755103\n",
            "F1 Score Train: 0.8780519023391251\n",
            "F1 Score Validation: 0.8669677983389188\n",
            "F1 Score Train: 0.8778404237143345\n",
            "F1 Score Validation: 0.8693496646252553\n"
          ]
        },
        {
          "output_type": "execute_result",
          "data": {
            "text/plain": [
              "<matplotlib.legend.Legend at 0x7f2e6be37910>"
            ]
          },
          "metadata": {},
          "execution_count": 301
        },
        {
          "output_type": "display_data",
          "data": {
            "text/plain": [
              "<Figure size 432x288 with 1 Axes>"
            ],
            "image/png": "[encoded data removed]"
          },
          "metadata": {
            "needs_background": "light"
          }
        }
      ]
    },
    {
      "cell_type": "markdown",
      "source": [
        "Show plot using best hyperparameters with count vectorizer"
      ],
      "metadata": {
        "id": "5oUzmhOzxh96"
      }
    },
    {
      "cell_type": "code",
      "source": [
        "import matplotlib.pyplot as plt\n",
        "\n",
        "list_f1=[]\n",
        "list_f1_train=[]\n",
        "list_precision=[]\n",
        "list_recall=[]\n",
        "list_sample_size=[]\n",
        "\n",
        "for times in range(10):\n",
        "  # training\n",
        "  X, X_unused, y, y_unused = train_test_split(X_train_count, Y_train, test_size=1 - (times * 0.1 + 0.005), random_state=0)\n",
        "\n",
        "  classifier = LogisticRegression(C= 0.01, solver='lbfgs', penalty='l2', max_iter=2000)\n",
        "  classifier.fit(X, np.ravel(y))\n",
        "\n",
        "  results_train = classifier.predict(X)\n",
        "\n",
        "  # validation\n",
        "  results = classifier.predict(X_val_count)\n",
        "\n",
        "  # score\n",
        "  f1_train = f1_score(y, results_train)\n",
        "  print(\"F1 Score Train: \" + str(f1_train))\n",
        "\n",
        "  f1 = f1_score(Y_val, results)\n",
        "  print(\"F1 Score Validation: \" + str(f1))\n",
        "\n",
        "  precision = precision_score(Y_val, results)\n",
        "  recall = recall_score(Y_val, results)\n",
        "  list_precision.append(precision)\n",
        "  list_recall.append(recall)\n",
        "\n",
        "  list_f1.append(f1)\n",
        "  list_f1_train.append(f1_train)\n",
        "  list_sample_size.append((times * 0.1 + 0.1))\n",
        "\n",
        "# print(plot_data)\n",
        "plt.plot(list_sample_size, list_f1)\n",
        "plt.plot(list_sample_size, list_f1_train)\n",
        "\n",
        "plt.ylim(ymin=0)\n",
        "plt.legend([\"Validation\", \"Training\"])"
      ],
      "metadata": {
        "colab": {
          "base_uri": "https://localhost:8080/",
          "height": 639
        },
        "id": "zbho7MPku57u",
        "outputId": "cdd9b938-b1b4-4fd6-82cc-154092bff7c5"
      },
      "execution_count": 306,
      "outputs": [
        {
          "output_type": "stream",
          "name": "stdout",
          "text": [
            "F1 Score Train: 0.9357798165137614\n",
            "F1 Score Validation: 0.7300582425930616\n",
            "F1 Score Train: 0.9023850504057045\n",
            "F1 Score Validation: 0.8349289237017697\n",
            "F1 Score Train: 0.8947435733469753\n",
            "F1 Score Validation: 0.8505914999269754\n",
            "F1 Score Train: 0.8920643021178871\n",
            "F1 Score Validation: 0.8583916083916083\n",
            "F1 Score Train: 0.8936579115951313\n",
            "F1 Score Validation: 0.8643274853801168\n",
            "F1 Score Train: 0.8939378502292409\n",
            "F1 Score Validation: 0.8675679604593691\n",
            "F1 Score Train: 0.8925120258822528\n",
            "F1 Score Validation: 0.8698570177998249\n",
            "F1 Score Train: 0.8918700975001833\n",
            "F1 Score Validation: 0.8712697483908718\n",
            "F1 Score Train: 0.8912156736791391\n",
            "F1 Score Validation: 0.8730668222935513\n",
            "F1 Score Train: 0.8902418110101183\n",
            "F1 Score Validation: 0.8743791995325738\n"
          ]
        },
        {
          "output_type": "execute_result",
          "data": {
            "text/plain": [
              "<matplotlib.legend.Legend at 0x7f2e6b98f1d0>"
            ]
          },
          "metadata": {},
          "execution_count": 306
        },
        {
          "output_type": "display_data",
          "data": {
            "text/plain": [
              "<Figure size 432x288 with 1 Axes>"
            ],
            "image/png": "[encoded data removed]"
          },
          "metadata": {
            "needs_background": "light"
          }
        }
      ]
    }
  ]
}